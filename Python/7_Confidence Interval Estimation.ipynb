{
 "cells": [
  {
   "cell_type": "markdown",
   "metadata": {},
   "source": [
    "# Statistics-7 🤝\n",
    "\n",
    "**Title :** $\\textit{Confidence Interval Estimation}$\\\n",
    "**Author :** $\\textit{Manideep Bangaru}$ 👨🏻‍💻\n",
    "\n",
    "$\\small \\text{on 21/02/2020}$"
   ]
  },
  {
   "cell_type": "markdown",
   "metadata": {},
   "source": [
    "## Confidence Interval Estimate for the Mean \n",
    "### (When $\\Large \\sigma$ is known)"
   ]
  },
  {
   "cell_type": "markdown",
   "metadata": {},
   "source": [
    "$\\large \\bar{X}-Z_\\frac{\\alpha}{2} \\frac{\\sigma}{\\sqrt{n}} \\le \\mu \\le \\bar{X}+Z_\\frac{\\alpha}{2} \\frac{\\sigma}{\\sqrt{n}}$"
   ]
  },
  {
   "cell_type": "markdown",
   "metadata": {},
   "source": [
    "Here, $\\large Z_\\frac{\\alpha}{2} \\frac{\\sigma}{\\sqrt{n}}$ is called **Sampling error**"
   ]
  },
  {
   "cell_type": "markdown",
   "metadata": {},
   "source": [
    "#### <font color = 'orange'> An Example to Understand </font>\n",
    "A paper manufacturer has a production process that operates continuously throughout an entire production shift. The paper is expected to have a mean length of 11 inches, and the standard deviation of the length is 0.02 inch. At periodic intervals, a sample is selected to determine whether the mean paper length is still equal to 11 inches or whether something has gone wrong in the production process to change the length of the paper produced. You select a random sample of 100 sheets, and the mean paper length is 10.998 inches. Construct a 95% confidence interval estimate for the population mean paper length."
   ]
  },
  {
   "cell_type": "code",
   "execution_count": 10,
   "metadata": {},
   "outputs": [
    {
     "name": "stdout",
     "output_type": "stream",
     "text": [
      "-1.9599639845400545\n",
      "10.994080072030918\n",
      "11.00191992796908\n"
     ]
    }
   ],
   "source": [
    "from scipy.stats import norm\n",
    "print(norm.ppf(0.025)) # Z-score at 0.025 significance level\n",
    "print(10.998 + (norm.ppf(0.025) * (0.02/(100**0.5))))\n",
    "print(10.998 - (norm.ppf(0.025) * (0.02/(100**0.5))))"
   ]
  },
  {
   "cell_type": "markdown",
   "metadata": {},
   "source": [
    "Therefore, at a 95% confidence level, the population mean lies between 10.9941 and 11.0019"
   ]
  },
  {
   "cell_type": "markdown",
   "metadata": {},
   "source": [
    "To use the above formula, we should know the population standard deviation ($\\sigma$)"
   ]
  },
  {
   "cell_type": "markdown",
   "metadata": {},
   "source": [
    "### (When $\\Large \\sigma$ is NOT known)"
   ]
  },
  {
   "cell_type": "markdown",
   "metadata": {},
   "source": [
    "In most business situations, you don't know $\\sigma$, the population standard deviation. Therefore, we will look at a method for constructing a confidence interval estimate of $\\mu$ that uses the sample statistic _S_ as an estimate of the population parameter $\\sigma$."
   ]
  },
  {
   "cell_type": "markdown",
   "metadata": {},
   "source": [
    "#### t - distribution (Also called as Student's t distribution)\n",
    "If the variable X is normally distributed, then the following statistic:\n",
    "\n",
    "$\\large t = \\frac{\\bar{x}-\\mu}{\\frac{S}{\\sqrt{n}}}$ ,\\\n",
    "\\\n",
    "has a t distribution with **n-1** degress of freedom. This expression has the same form as the Z statistic, except that _S_ is used to estimate the unknown $\\sigma$\n",
    "\n",
    "#### Properties of t - Distribution\n",
    "The t distribution is very similar in appearance to the standardized normal distribution. Both distributions are symmetrical and bell-shaped, with the mean and the median equal to zero. However, because S is used to estimate the unknown s, the values of t are more variable than those for Z. Therefore, the t distribution has more area in the tails and less in the center than does the standardized normal distribution"
   ]
  },
  {
   "cell_type": "markdown",
   "metadata": {},
   "source": [
    "$\\large \\bar{X}-t_\\frac{\\alpha}{2} \\frac{S}{\\sqrt{n}} \\le \\mu \\le \\bar{X}+t_\\frac{\\alpha}{2} \\frac{S}{\\sqrt{n}}$"
   ]
  },
  {
   "cell_type": "markdown",
   "metadata": {},
   "source": [
    "### Determining Sample Size\n",
    "Determining the proper sample size is a complicated procedure, subject to the constraints of budget, time, and the amount of acceptable sampling error\n",
    "\n",
    "#### Sample size determination for the Mean\n",
    "In confidence interval estimate for the mean equation the amount added to or subtracted from $\\bar{X}$ is equal to half the width of the interval. This quantity represents the amoutn of imprecision in the estimate that results from sampling error.\n",
    "\n",
    "The Sampling error (**_e_**) = $\\large Z_{\\frac{\\alpha}{2}}\\frac{\\sigma}{\\sqrt{n}}$"
   ]
  },
  {
   "cell_type": "markdown",
   "metadata": {},
   "source": [
    "From the above Sampling error equation,\n",
    "\n",
    "$\\large n = \\frac{Z_{\\frac{\\alpha}{2}}^2 \\sigma^2}{e^2}$"
   ]
  }
 ],
 "metadata": {
  "kernelspec": {
   "display_name": "Python 3",
   "language": "python",
   "name": "python3"
  },
  "language_info": {
   "codemirror_mode": {
    "name": "ipython",
    "version": 3
   },
   "file_extension": ".py",
   "mimetype": "text/x-python",
   "name": "python",
   "nbconvert_exporter": "python",
   "pygments_lexer": "ipython3",
   "version": "3.8.3"
  }
 },
 "nbformat": 4,
 "nbformat_minor": 4
}
