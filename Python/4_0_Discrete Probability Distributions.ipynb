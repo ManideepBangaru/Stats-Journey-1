{
 "cells": [
  {
   "cell_type": "markdown",
   "metadata": {
    "slideshow": {
     "slide_type": "slide"
    }
   },
   "source": [
    "# Statistics-4 🤝\n",
    "\n",
    "**Title :** $\\textit{Discrete Probability Distributions}$\\\n",
    "**Author :** $\\textit{Manideep Bangaru}$ 👨🏻‍💻\n",
    "\n",
    "$\\small \\text{on 17/12/2020}$"
   ]
  },
  {
   "cell_type": "markdown",
   "metadata": {
    "slideshow": {
     "slide_type": "slide"
    }
   },
   "source": [
    "## Discrete Probability Distributions"
   ]
  },
  {
   "cell_type": "markdown",
   "metadata": {
    "slideshow": {
     "slide_type": "slide"
    }
   },
   "source": [
    "A **Probability Discrete Distribution** for a discrete variable is a mutually exclusive list of all the possible numerical outcomes along with the probability of occurrence of each outcome"
   ]
  },
  {
   "cell_type": "markdown",
   "metadata": {
    "slideshow": {
     "slide_type": "slide"
    }
   },
   "source": [
    "### Expected value of a discrete variable\n",
    "Expected value ($\\mu$) of a discrete variable,\n",
    "$\\mu = E(X) = \\sum_{i=1}^{n}x_iP(X=x_i)$\n",
    "\n",
    "### Variance and Standard Deviation of a discrete variable\n",
    "_**Variance of a discrete variable,**_\n",
    "\n",
    "$\\sigma^2 = \\sum_{i=1}^{n}[x_i-E(X)]^2P(X=x_i)$\n",
    "\n",
    "**_Standard Deviation of a discrete variable,_**\n",
    "\n",
    "$\\sigma = \\sqrt{\\sigma^2} = \\sqrt{\\sum_{i=1}^{n}[x_i-E(X)]^2P(X=x_i)}$"
   ]
  },
  {
   "cell_type": "markdown",
   "metadata": {
    "slideshow": {
     "slide_type": "slide"
    }
   },
   "source": [
    "### Applying the concepts"
   ]
  },
  {
   "cell_type": "code",
   "execution_count": 2,
   "metadata": {
    "slideshow": {
     "slide_type": "subslide"
    }
   },
   "outputs": [],
   "source": [
    "# Distribution A\n",
    "A_x = [0,1,2,3,4]\n",
    "P_x = [0.50,0.20,0.15,0.10,0.05]\n",
    "\n",
    "# Distribution B\n",
    "B_y = [0,1,2,3,4]\n",
    "P_y = [0.05,0.10,0.15,0.20,0.55]\n",
    "\n",
    "# a. Compute the expected value for each distribution\n",
    "# b. Compute the standard deviation for each distribution\n",
    "# c. Compare the results of distributions A and B"
   ]
  },
  {
   "cell_type": "code",
   "execution_count": 17,
   "metadata": {
    "slideshow": {
     "slide_type": "subslide"
    }
   },
   "outputs": [],
   "source": [
    "import numpy as np\n",
    "def ExStats(x,px):\n",
    "    E_x = sum(np.array(x)*np.array(px))\n",
    "    Var_x = sum(((x - E_x)**2)*px)\n",
    "    Std_x = Var_x**0.5\n",
    "    \n",
    "    print('Expectation = '+str(E_x))\n",
    "    print('Variance = '+str(Var_x))\n",
    "    print('Standard Deviation = '+str(Std_x))"
   ]
  },
  {
   "cell_type": "code",
   "execution_count": 22,
   "metadata": {
    "slideshow": {
     "slide_type": "subslide"
    }
   },
   "outputs": [
    {
     "name": "stdout",
     "output_type": "stream",
     "text": [
      "Expectation = 1.0\n",
      "Variance = 1.5\n",
      "Standard Deviation = 1.224744871391589\n",
      "-------------------\n",
      "Expectation = 3.2\n",
      "Variance = 1.572\n",
      "Standard Deviation = 1.2537942414925984\n"
     ]
    }
   ],
   "source": [
    "ExStats(A_x,P_x)\n",
    "print(\"-------------------\")\n",
    "ExStats(B_y,P_y)"
   ]
  },
  {
   "cell_type": "markdown",
   "metadata": {
    "slideshow": {
     "slide_type": "slide"
    }
   },
   "source": [
    "### Binomial Distribution\n",
    "A binomial distribution can be thought of as simply the probability of a SUCCESS or FAILURE outcome in an experiment or survey that is repeated multiple times. The binomial is a type of distribution that has two possible outcomes (the prefix **_“bi”_** means two, or twice). For example, a coin toss has only two possible outcomes: heads or tails and taking a test could have two possible outcomes: pass or fail."
   ]
  },
  {
   "cell_type": "markdown",
   "metadata": {
    "slideshow": {
     "slide_type": "subslide"
    }
   },
   "source": [
    "#### Binomial distribution must meet the following criteria\n",
    "* **The number of observations or trials is fixed.** In other words, you can only figure out the probability of something happening if you do it a certain number of times. This is common sense—if you toss a coin once, your probability of getting a tails is 50%. If you toss a coin a 20 times, your probability of getting a tails is very, very close to 100%\n",
    "* **Each observation or trial is independent.** In other words, none of your trials have an effect on the probability of the next trial\n",
    "* **The probability of success** (tails, heads, fail or pass) is exactly the same from one trial to another\n",
    "* The probability of an observation being classified as the event of interest, $\\large \\bf \\pi$, is constant from observation to observation. Thus, the probability of an observation being classified as not being the event of interest, $\\large \\bf{1-\\bf{\\pi}}$, is constant over all observations"
   ]
  },
  {
   "cell_type": "markdown",
   "metadata": {
    "slideshow": {
     "slide_type": "subslide"
    }
   },
   "source": [
    "Binomial Distribution,\n",
    "\n",
    "$\\normalsize P(X = x \\ | \\ n,\\pi) = \\large \\frac {n!}{x!(n-x)!} \\pi^x \\pi^{n-x}$\n",
    "\n",
    "Mean of Binomial Distribution,\n",
    "\n",
    "$\\normalsize \\mu = E(X) = n\\pi$\n",
    "\n",
    "Standard deviation of Binomial Distribution,\n",
    "\n",
    "$\\normalsize \\sigma = \\sqrt{\\sigma^2} = \\sqrt{n\\pi(1-\\pi)}$"
   ]
  },
  {
   "cell_type": "markdown",
   "metadata": {
    "slideshow": {
     "slide_type": "slide"
    }
   },
   "source": [
    "### Poisson Distribution\n",
    "A poisson distribution helps to predict the probability of certain events from happening on when you know how often the event has occurred.\n",
    "It gives us the probability of a given number of events happening in a fixed interval of time.\n",
    "\n",
    "##### Practical uses of Poisson Distribution\n",
    "A textbook store rents an average of 200 books every Saturday night. Using this data, you can predict the probability that more books will sell (perhaps 300 or 400) on the following Saturday nights. Another example is the number of diners in a certain restaurant every day. If the average number of diners for seven days is 500, you can predict the probability of a certain day having more customers."
   ]
  },
  {
   "cell_type": "markdown",
   "metadata": {
    "slideshow": {
     "slide_type": "subslide"
    }
   },
   "source": [
    "Poisson Distribution,\n",
    "\n",
    "$\\normalsize P(X = x \\ | \\ \\lambda) = \\large \\frac{e^{-\\lambda}\\lambda^x}{x!}$"
   ]
  },
  {
   "cell_type": "markdown",
   "metadata": {
    "slideshow": {
     "slide_type": "slide"
    }
   },
   "source": [
    "### Poisson Distribution Vs Binomial\n",
    "* If your question has an average probability of an event happening per unit (i.e. per unit of time, cycle, event) and you want to find probability of a certain number of events happening in a period of time (or number of events), then use the **Poisson Distribution**\n",
    "\n",
    "* If you are given an exact probability and you want to find the probability of the event happening a certain number out times out of x (i.e. 10 times out of 100, or 99 times out of 1000), use the **Binomial Distribution**"
   ]
  },
  {
   "cell_type": "markdown",
   "metadata": {
    "slideshow": {
     "slide_type": "slide"
    }
   },
   "source": [
    "<font color=\"olive\">$\\Large \\textbf{Thank you !!!}$</font>"
   ]
  }
 ],
 "metadata": {
  "kernelspec": {
   "display_name": "Python 3 (ipykernel)",
   "language": "python",
   "name": "python3"
  },
  "language_info": {
   "codemirror_mode": {
    "name": "ipython",
    "version": 3
   },
   "file_extension": ".py",
   "mimetype": "text/x-python",
   "name": "python",
   "nbconvert_exporter": "python",
   "pygments_lexer": "ipython3",
   "version": "3.9.7"
  }
 },
 "nbformat": 4,
 "nbformat_minor": 4
}
