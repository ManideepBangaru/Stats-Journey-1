{
 "cells": [
  {
   "cell_type": "markdown",
   "metadata": {},
   "source": [
    "# Statistics-5 🤝\n",
    "\n",
    "**Title :** $\\textit{Normal and Other Continuous distributions}$\\\n",
    "**Author :** $\\textit{Manideep Bangaru}$ 👨🏻‍💻\n",
    "\n",
    "$\\small \\text{on 29/12/2020}$"
   ]
  },
  {
   "cell_type": "markdown",
   "metadata": {},
   "source": [
    "Continuous probability distributions vary by the shape under the curve"
   ]
  },
  {
   "cell_type": "markdown",
   "metadata": {},
   "source": [
    "### Normal Distribution\n",
    "The normal distribution is not only symmetrical, but bell-shaped, a shape that (loosely) suggests the profile of a bell. Being bell-shaped means that most values of the continuous variable will cluster around the mean.\n",
    "\n",
    "### Uniform Distribution\n",
    "It is also known as rectangular distribution, contains the values that are equally distributed in the range between the minimum value and the maximum value.\n",
    "In a uniform distribution every value has a equal chance of occurrence\n",
    "\n",
    "### Exponential Distribution\n",
    "The exponential distribution contains values from zero to positive infinity and is right-skewed, making the mean greater than the median\n",
    "\n",
    "### Properties of Normal Distribution\n",
    "* Symmetrical distribution. Its mean and median are therefore equal\n",
    "* Bell-shaped. Values cluster around the mean\n",
    "* Interquartile range is roughly 1.33 standard deviations. Therefore, the middle 50% of the values are contained within an interval that is approximately two-thirds of a standard deviation below and two-thirds of a standard deviation above the mean\n",
    "* The distribution has an infinite range $-\\infty < X < \\infty$\n",
    "* Six standard deviations approximate this range\n",
    "\n",
    "### Normal Probability Density Function\n",
    "$\\large f(x) = \\frac{1}{\\sigma\\sqrt{2\\pi}}e^-(\\frac{1}{2})(\\frac{x-\\mu}{\\sigma})^2$\n",
    "\\\n",
    "\\\n",
    "where,\\\n",
    "e = mathematical constant (2.71828) \\\n",
    "$\\pi$ = mathematical constant (3.14159) \\\n",
    "$\\mu$ = mean \\\n",
    "$\\sigma$ = standard deviation \\\n",
    "X = Any value of the continuous variable, $-\\infty < X < \\infty$ \\\n",
    "\n",
    "### Computing Normal Probabilities\n",
    "To compute Normal probabilites, you need to first convert **X** to a standardized normal variable **(Z)**, using <font color='red'> **Transformation formula** </font>\n",
    "\n",
    "### Z Transformation formula\n",
    "The Z value is equal to difference between X and the mean,$\\mu$, divided by the standard deviation($\\sigma$)\n",
    "\n",
    "$\\text{Z =} \\large \\frac{x-\\mu}{\\sigma}$"
   ]
  },
  {
   "cell_type": "markdown",
   "metadata": {},
   "source": [
    "### Excercises\n",
    "1) What is the probability that the load time of a web sales page will be more than 9 seconds if average load time is 7 seconds with a standard deviation of 2?"
   ]
  },
  {
   "cell_type": "code",
   "execution_count": 20,
   "metadata": {},
   "outputs": [],
   "source": [
    "from scipy.stats import norm"
   ]
  },
  {
   "cell_type": "code",
   "execution_count": 21,
   "metadata": {},
   "outputs": [
    {
     "data": {
      "text/plain": [
       "0.15865525393145707"
      ]
     },
     "execution_count": 21,
     "metadata": {},
     "output_type": "execute_result"
    }
   ],
   "source": [
    "1-norm.cdf(9,7,2)"
   ]
  },
  {
   "cell_type": "markdown",
   "metadata": {},
   "source": [
    "2) What is the probability that the load time for the web sales page will be less than 7 seconds or more than 9 seconds?"
   ]
  },
  {
   "cell_type": "code",
   "execution_count": 22,
   "metadata": {},
   "outputs": [
    {
     "data": {
      "text/plain": [
       "0.6586552539314571"
      ]
     },
     "execution_count": 22,
     "metadata": {},
     "output_type": "execute_result"
    }
   ],
   "source": [
    "norm.cdf(7,7,2) + (1-norm.cdf(9,7,2))"
   ]
  },
  {
   "cell_type": "markdown",
   "metadata": {},
   "source": [
    "3) How much time (in seconds) will elapse before the fastest 10% of the web sales pages load time occur?"
   ]
  },
  {
   "cell_type": "code",
   "execution_count": 23,
   "metadata": {},
   "outputs": [
    {
     "data": {
      "text/plain": [
       "4.436896868910799"
      ]
     },
     "execution_count": 23,
     "metadata": {},
     "output_type": "execute_result"
    }
   ],
   "source": [
    "norm.ppf(0.10,7,2)"
   ]
  },
  {
   "cell_type": "markdown",
   "metadata": {},
   "source": [
    "_Thus, 10% of the load times are 4.44 seconds or less_"
   ]
  },
  {
   "cell_type": "markdown",
   "metadata": {},
   "source": [
    "### Evaluating Normality\n",
    "* Construct charts and observe their appearance. For small or moderate sized data sets, create a stem-and-leaf display or a boxplot. For large data sets, in addition, plot a histogram or polygon.\n",
    "\n",
    "* Compute descriptive statistics and compare these statistics with the theoretical proper- ties of the normal distribution. Compare the mean and median. Is the interquartile range approximately 1.33 times the standard deviation? Is the range approximately 6 times the standard deviation?\n",
    "\n",
    "* Evaluate how the values are distributed. Determine whether approximately two-thirds of the values lie between the mean and $\\pm$ 1 standard deviation. Determine whether approximately four-fifths of the values lie between the mean and $\\pm$ 1.28 standard deviations. Determine whether approximately 19 out of every 20 values lie between the mean and $\\pm$ 2 standard deviations.\n",
    "\n",
    "### The Uniform Distribution\n",
    "In the uniform distribution, the values are evenly distributed in the range between the smallest value, **a**, and the largest value, **b**. \n",
    "\n",
    "Because of its shape, the uniform distribution is sometimes called the **rectangular distribution**\n",
    "\n",
    "**_Uniform Probability Density Function_**\n",
    "\n",
    "$\\large f(x) = \\Large \\frac{1}{b-a}, \\normalsize \\text{if a} \\le \\text{X} \\le b \\land \\text{0 elsewhere}$\n",
    "\n",
    "where,\\\n",
    "a = minimum value of X \\\n",
    "b = maximum value of X"
   ]
  }
 ],
 "metadata": {
  "kernelspec": {
   "display_name": "Python 3",
   "language": "python",
   "name": "python3"
  },
  "language_info": {
   "codemirror_mode": {
    "name": "ipython",
    "version": 3
   },
   "file_extension": ".py",
   "mimetype": "text/x-python",
   "name": "python",
   "nbconvert_exporter": "python",
   "pygments_lexer": "ipython3",
   "version": "3.8.2"
  }
 },
 "nbformat": 4,
 "nbformat_minor": 4
}
