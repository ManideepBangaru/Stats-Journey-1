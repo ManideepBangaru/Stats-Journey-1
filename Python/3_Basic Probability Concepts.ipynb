{
 "cells": [
  {
   "cell_type": "markdown",
   "metadata": {
    "slideshow": {
     "slide_type": "slide"
    }
   },
   "source": [
    "# Statistics-3 🤝\n",
    "\n",
    "**Title :** $\\textit{Basic Probability Concepts}$\\\n",
    "**Author :** $\\textit{Manideep Bangaru}$ 👨🏻‍💻\n",
    "\n",
    "$\\small \\text{on 17/12/2020}$"
   ]
  },
  {
   "cell_type": "markdown",
   "metadata": {
    "slideshow": {
     "slide_type": "slide"
    }
   },
   "source": [
    "### Introduction\n",
    "\n",
    "* The priciples of probability help bridge the worlds of descriptive statistics and inferential statistics\n",
    "* Probability is the numerical value representing the chance, likelihood, or possibility that a particular event will occur\n",
    "    * An event that has no chance of occurring has a probability of 0\n",
    "    * An event that is sure to occur has a probability of 1\n",
    "\n",
    "There are three types of probability:\n",
    "* A priori\n",
    "* Empirical\n",
    "* Subjective"
   ]
  },
  {
   "cell_type": "markdown",
   "metadata": {
    "slideshow": {
     "slide_type": "slide"
    }
   },
   "source": [
    "### Probability of Occurence\n",
    "\n",
    "$\\sf \\text{Probability of Occurrence} = \\large \\frac{X}{T}$\n",
    "\n",
    "$\\sf \\text{Where, X = number of ways in which the event occurs}$\n",
    "\n",
    "$\\sf \\ \\ \\ \\ \\ \\ \\ \\ \\ \\ \\ \\ \\ \\text{T = total number of possible outcomes}$"
   ]
  },
  {
   "cell_type": "markdown",
   "metadata": {
    "slideshow": {
     "slide_type": "subslide"
    }
   },
   "source": [
    "In a _**priori probability**_ ,the probability of an occurrence is based on priori knowledge of the process involved. For example, number of ways the event occurs and the total number of possible outcomes are known from the composition of the deck of cards or the faces of the die.\n",
    "\n",
    "In the _**empirical probability**_ approach, the probabilities are based on observed data, not on priori knowledge process. For example, Surverys are often used to generate empirical probabilities.\n",
    "\n",
    "_**subjective probability**_ differs from the other two approaches because, this type of probability differs from person to person, hence the name **Subjective**. This probability is usually based on individuals's past experience, personal opinion, and analysis of a particular situation. Subjective probability is especially useful in making decisions in situations in which you cannot use _**a priori**_ probability or _**empirical probability**_."
   ]
  },
  {
   "cell_type": "markdown",
   "metadata": {
    "slideshow": {
     "slide_type": "slide"
    }
   },
   "source": [
    "### Experiment\n",
    "It refers to an activity or measurement that results in an outcome\\\n",
    "**Example :** Tossing a single coin for 50 times"
   ]
  },
  {
   "cell_type": "markdown",
   "metadata": {
    "slideshow": {
     "slide_type": "slide"
    }
   },
   "source": [
    "### Event\n",
    "Each  possible outcome of a variable is reffered to as an event"
   ]
  },
  {
   "cell_type": "markdown",
   "metadata": {
    "slideshow": {
     "slide_type": "slide"
    }
   },
   "source": [
    "### Equally likely Events\n",
    "In a sample space containing at least two events, the chance of the occurence of each of the event is same\\\n",
    "**Example :** In a coss tossing experiment, having a head or tail is equal to 1/2 of each"
   ]
  },
  {
   "cell_type": "markdown",
   "metadata": {
    "slideshow": {
     "slide_type": "slide"
    }
   },
   "source": [
    "### Mutually Exclusive events\n",
    "At a time if there is only one outcome,then the event is said to be mutually exclusive\\\n",
    "**Example :** Coin tossing experiment, only one outcome at a time. heads or tails"
   ]
  },
  {
   "cell_type": "markdown",
   "metadata": {
    "slideshow": {
     "slide_type": "slide"
    }
   },
   "source": [
    "### Outcome\n",
    "Result of a random experiment is called an outcome\\\n",
    "**Example :** In coin tossing experiment, the two outcomes are head and tail"
   ]
  },
  {
   "cell_type": "markdown",
   "metadata": {
    "slideshow": {
     "slide_type": "slide"
    }
   },
   "source": [
    "### Events and Sample spaces\n",
    "When you toss a coin, possible outcomes are either head or tail. Each of these are called as a simple event."
   ]
  },
  {
   "cell_type": "markdown",
   "metadata": {
    "slideshow": {
     "slide_type": "slide"
    }
   },
   "source": [
    "### Joint event \n",
    "A joint event has two or more characteristics\\\n",
    "Getting two heads when you toss a coin twice is an example of a joint event because it consists of heads on the first toss and heads on the second toss"
   ]
  },
  {
   "cell_type": "markdown",
   "metadata": {
    "slideshow": {
     "slide_type": "slide"
    }
   },
   "source": [
    "### Complement\n",
    "The complement of event **A** is represented by $\\bf A^\\prime$\\\n",
    "The complement of head is a tail in a coin toss as it is the only event that is not a head"
   ]
  },
  {
   "cell_type": "markdown",
   "metadata": {
    "slideshow": {
     "slide_type": "slide"
    }
   },
   "source": [
    "### Sample Space\n",
    "The collection of all possible events is called the **sample space**\n",
    "\n",
    "* The sample space for tossing a coin is heads and tails\n",
    "* The sample space for rolling a die is 1,2,3,4,5,6"
   ]
  },
  {
   "cell_type": "markdown",
   "metadata": {
    "slideshow": {
     "slide_type": "slide"
    }
   },
   "source": [
    "### Simple Probability\n",
    "It refers to the probability of occurrence of a simple event,**P(A)**\n",
    "\n",
    "$\\text{Probability of Occurrence} = \\frac{\\large \\text{Number of ways in which the event occurs}}{\\large \\text{Total number of events}}$\n",
    "\n",
    "* $0 \\le P(A) \\le 1$\n",
    "* $P(A) + P(A^\\prime) = 1$"
   ]
  },
  {
   "cell_type": "markdown",
   "metadata": {
    "slideshow": {
     "slide_type": "slide"
    }
   },
   "source": [
    "### Joint Probability\n",
    "Whereas simple probability refers to the probability of occurrence of simple events, joint probability refers to the probability of an occurrence involving two or more events\n",
    "An example, joint probability is the probability that you will get heads on the first toss of a coin and heads on the second toss of a coin"
   ]
  },
  {
   "cell_type": "markdown",
   "metadata": {
    "slideshow": {
     "slide_type": "slide"
    }
   },
   "source": [
    "### Marginal Probability\n",
    "The Marginal probability of an event consists of a set of joint probabilities.\n",
    "For example, if B consists of two events $\\bf B_1$ and $\\bf B_2$, then P(A), the probability of event A, consists of the joint probability of event A occurring with event $\\bf B_1$ and event $\\bf B_2$\n",
    "\n",
    "\n",
    "Marginal Probability P(A) = P(A and $B_1$) + P(A and $B_2$) + .... + P(A and $B_k$)\n",
    "\n",
    "$\\text{Where }B_1,B_2,....,B_k \\text{ are k mutually exclusive and collectively exhaustive events}$\n",
    "\n",
    "#### General Additional Rule\n",
    "            P(A or B) = P(A) + P(B) - P(A and B)"
   ]
  },
  {
   "cell_type": "markdown",
   "metadata": {
    "slideshow": {
     "slide_type": "slide"
    }
   },
   "source": [
    "### Conditional Probability\n",
    "Conditional probability refers to the occurrence of event A, given information about the occurrence of another event B\n",
    "\n",
    "$P(A|B) = \\large \\frac {P(A\\cap B)}{P(B)}$\n",
    "\n",
    "$P(B|A) = \\large \\frac {P(A\\cap B)}{P(A)}$"
   ]
  },
  {
   "cell_type": "markdown",
   "metadata": {
    "slideshow": {
     "slide_type": "slide"
    }
   },
   "source": [
    "### Independence\n",
    "Two events, A and B are said to be independent only if\\\n",
    "P(A|B) = P(A)\n",
    "\n",
    "where,\n",
    "P(A|B) = Conditional probability of A and B\\\n",
    "P(A) = Marginal probability of A"
   ]
  },
  {
   "cell_type": "markdown",
   "metadata": {
    "slideshow": {
     "slide_type": "slide"
    }
   },
   "source": [
    "### General Multiplication Rule\n",
    "The probability of A and B is equal to the probability of A given B times the probability of B\n",
    "\n",
    "$P(A\\cap B) = P(A|B) * P(B)$"
   ]
  },
  {
   "cell_type": "markdown",
   "metadata": {
    "slideshow": {
     "slide_type": "slide"
    }
   },
   "source": [
    "### Multiplication rule for independent events is derived by substituting P(A) for P(A|B) in the above equation\n",
    "$P(A\\cap B) = P(A) * P(B)$\n",
    "\n",
    "If this rule holds for two events, A and B, then A and B are independent.Therefore, there are two ways to determine independence :\n",
    "* Events A and B are independent if, and only if, P(A|B) = P(A)\n",
    "* Events A and B are independent if, and only if, $P(A\\cap B) = P(A) * P(B)$"
   ]
  },
  {
   "cell_type": "markdown",
   "metadata": {
    "slideshow": {
     "slide_type": "slide"
    }
   },
   "source": [
    "### Marginal probability using General Multiplication Rule\n",
    "P(A) = P(A|$B_1$) * P($B_1$) + P(A|$B_2$) * P($B_2$) + ..... + P(A|$B_k$) * P($B_k$)\n",
    "\n",
    "### Bayesian Theorem\n",
    "P($A_i$|B) = $\\large \\frac{P(A_i)*P(B|A_i)}{\\large \\sum_{\\large i=1}^{\\large n} P(A_i)*P(B|A_i)} \\ ,\\normalsize i = 1,2,3,....,n$\n"
   ]
  },
  {
   "cell_type": "markdown",
   "metadata": {},
   "source": [
    "<font color = 'olive'>$\\Large \\textbf {Thank you !!!}$"
   ]
  }
 ],
 "metadata": {
  "celltoolbar": "Slideshow",
  "kernelspec": {
   "display_name": "Python 3",
   "language": "python",
   "name": "python3"
  },
  "language_info": {
   "codemirror_mode": {
    "name": "ipython",
    "version": 3
   },
   "file_extension": ".py",
   "mimetype": "text/x-python",
   "name": "python",
   "nbconvert_exporter": "python",
   "pygments_lexer": "ipython3",
   "version": "3.8.2"
  }
 },
 "nbformat": 4,
 "nbformat_minor": 4
}
